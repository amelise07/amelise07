{
 "metadata": {
  "language_info": {
   "codemirror_mode": {
    "name": "ipython",
    "version": 3
   },
   "file_extension": ".py",
   "mimetype": "text/x-python",
   "name": "python",
   "nbconvert_exporter": "python",
   "pygments_lexer": "ipython3",
   "version": "3.7.3"
  },
  "orig_nbformat": 2,
  "kernelspec": {
   "name": "python373jvsc74a57bd0e5d4a0ed5fdbce24d7193e6a0525946c12d26c722a6ba0b61b763cf6fc656cb3",
   "display_name": "Python 3.7.3 64-bit ('SETUPUSER': virtualenv)"
  }
 },
 "nbformat": 4,
 "nbformat_minor": 2,
 "cells": [
  {
   "cell_type": "code",
   "execution_count": 1,
   "metadata": {},
   "outputs": [
    {
     "output_type": "stream",
     "name": "stdout",
     "text": [
      "Hello World\n"
     ]
    }
   ],
   "source": [
    "print(\"Hello World\")"
   ]
  },
  {
   "cell_type": "code",
   "execution_count": null,
   "metadata": {},
   "outputs": [],
   "source": [
    "import urllib3\n",
    "\n",
    "link = \"https://www.metacritic.com/browse/movies/score/metascore/year/filtered\"\n",
    "\n",
    "# Construct a python request pool\n",
    "http = urllib3.PoolManager()\n",
    "\n",
    "# Initiate a web request\n",
    "r = http.request('GET', link)\n",
    "\n",
    "# Convert the result from raw bytes to text\n",
    "datastring = str(r.data, \"utf-8\")\n",
    "\n",
    "# Check whether it succeeded and how much data we got from the site\n",
    "print(r.status)\n",
    "print(len(datastring))\n"
   ]
  }
 ]
}